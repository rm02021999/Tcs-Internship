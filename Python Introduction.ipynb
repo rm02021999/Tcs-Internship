{
 "cells": [
  {
   "cell_type": "code",
   "execution_count": 1,
   "metadata": {},
   "outputs": [
    {
     "data": {
      "text/plain": [
       "'\\nThis is another\\nmulti-line comment\\nfor us'"
      ]
     },
     "execution_count": 1,
     "metadata": {},
     "output_type": "execute_result"
    }
   ],
   "source": [
    "# this is a single line comment...\n",
    "'''\n",
    "This is\n",
    "a multi-line text\n",
    "for us'''\n",
    "\n",
    "\"\"\"\n",
    "This is another\n",
    "multi-line comment\n",
    "for us\"\"\""
   ]
  },
  {
   "cell_type": "code",
   "execution_count": 5,
   "metadata": {},
   "outputs": [
    {
     "name": "stdin",
     "output_type": "stream",
     "text": [
      "Please enter the first number ->  300\n",
      "Please enter the second number ->  500\n"
     ]
    },
    {
     "name": "stdout",
     "output_type": "stream",
     "text": [
      "300 <class 'int'>\n",
      "500 <class 'int'>\n",
      "So total = 800\n"
     ]
    }
   ],
   "source": [
    "num1 = int(input(\"Please enter the first number -> \"))\n",
    "num2 = int(input(\"Please enter the second number -> \"))\n",
    "print (num1, type(num1))\n",
    "print (num2, type(num2))\n",
    "total = num1 + num2\n",
    "print (\"So total =\", total)"
   ]
  },
  {
   "cell_type": "code",
   "execution_count": 22,
   "metadata": {},
   "outputs": [
    {
     "name": "stdout",
     "output_type": "stream",
     "text": [
      "So the sum of 300 and 500 is 800\n",
      "So the sum of 300 and 500 is 800\n",
      "So the sum of 300 and 500 is 800\n",
      "So the sum of 300 and 500 is 800\n",
      "So the sum of 300 and 500 is 800\n",
      "So the sum of 300 and 500 is 800\n",
      "So the sum of 300 and 500 is 800\n",
      "So the sum of 300 and 500 is 800\n",
      "So the sum of 300 and 500 is 800\n"
     ]
    }
   ],
   "source": [
    "print (\"So the sum of \" + str(num1) + \" and \" + str(num2) + \" is \" + str(total))\n",
    "print (\"So the sum of\", num1, \"and\", num2, \"is\",total)\n",
    "print (\"So the sum of {} and {} is {}\".format(num1, num2, total))\n",
    "print (\"So the sum of {0} and {1} is {2}\".format(num1, num2, total))\n",
    "print (\"So the sum of {2} and {0} is {1}\".format(num2, total, num1))\n",
    "print (\"So the sum of {fnum} and {snum} is {tot}\".format(fnum = num1, snum = num2, tot = total))\n",
    "print (\"So the sum of {fnum} and {snum} is {tot}\".format(tot = total, snum = num2, fnum = num1))\n",
    "print (\"So the sum of %d and %d is %d\"%(num1, num2, total))\n",
    "print (f\"So the sum of {num1} and {num2} is {total}\")"
   ]
  },
  {
   "cell_type": "code",
   "execution_count": 23,
   "metadata": {},
   "outputs": [
    {
     "name": "stdout",
     "output_type": "stream",
     "text": [
      "14\n",
      "6\n",
      "40\n",
      "2.5\n",
      "2\n",
      "10000\n",
      "2\n"
     ]
    }
   ],
   "source": [
    "# Arithmetic operators\n",
    "print (10 + 4)\n",
    "print (10 - 4)\n",
    "print (10 * 4)\n",
    "print (10 / 4)   # float division\n",
    "print (10 // 4)  # integer division\n",
    "print (10 ** 4)  # exponentiation\n",
    "print (10 % 4)   # modulus"
   ]
  },
  {
   "cell_type": "code",
   "execution_count": null,
   "metadata": {},
   "outputs": [],
   "source": [
    "help(str)   # IDLE"
   ]
  },
  {
   "cell_type": "code",
   "execution_count": 36,
   "metadata": {},
   "outputs": [],
   "source": [
    "x = 100"
   ]
  },
  {
   "cell_type": "code",
   "execution_count": 37,
   "metadata": {},
   "outputs": [
    {
     "name": "stdout",
     "output_type": "stream",
     "text": [
      "100\n"
     ]
    }
   ],
   "source": [
    "print (x)"
   ]
  },
  {
   "cell_type": "code",
   "execution_count": 34,
   "metadata": {},
   "outputs": [],
   "source": [
    "x = 500"
   ]
  },
  {
   "cell_type": "code",
   "execution_count": 3,
   "metadata": {},
   "outputs": [
    {
     "name": "stdout",
     "output_type": "stream",
     "text": [
      "Hello Hello Hello \n",
      "Hello Hello Hello \n"
     ]
    }
   ],
   "source": [
    "# dealing with the functions in Python...\n",
    "def funct1():\n",
    "    print (\"Hello \" * 3)\n",
    "funct1()\n",
    "funct1()"
   ]
  },
  {
   "cell_type": "code",
   "execution_count": 4,
   "metadata": {},
   "outputs": [
    {
     "name": "stdout",
     "output_type": "stream",
     "text": [
      "Hello Hello Hello \n",
      "Welcome Welcome Welcome Welcome Welcome \n"
     ]
    }
   ],
   "source": [
    "def funct2(message, times):\n",
    "    print (message * times)\n",
    "funct2(\"Hello \", 3)\n",
    "funct2(\"Welcome \", 5)"
   ]
  },
  {
   "cell_type": "code",
   "execution_count": 7,
   "metadata": {},
   "outputs": [
    {
     "name": "stdout",
     "output_type": "stream",
     "text": [
      "Hello Hello Hello \n",
      "Welcome Welcome Welcome Welcome Welcome \n"
     ]
    }
   ],
   "source": [
    "def funct3(message, times):\n",
    "    return (message * times)\n",
    "result = funct3(\"Hello \", 3)\n",
    "print (result)\n",
    "print(funct3(\"Welcome \", 5))"
   ]
  },
  {
   "cell_type": "code",
   "execution_count": 10,
   "metadata": {},
   "outputs": [],
   "source": [
    "# https://www.codechef.com/problems/FLOW006\n",
    "# cook your dish here\n",
    "T = int(input())\n",
    "for i in range(T):\n",
    "    N = int(input())\n",
    "    total = 0\n",
    "    while (N != 0):\n",
    "        last_digit = N % 10\n",
    "        N = N // 10  # N //= 10\n",
    "        total = total + last_digit\n",
    "    print (total)"
   ]
  },
  {
   "cell_type": "code",
   "execution_count": 10,
   "metadata": {},
   "outputs": [
    {
     "name": "stdout",
     "output_type": "stream",
     "text": [
      "120 80 2000 5.0\n",
      "(130, 70, 3000, 3.3333333333333335) <class 'tuple'>\n",
      "130 70 3000 3.3333333333333335\n"
     ]
    }
   ],
   "source": [
    "def funct4(num1, num2):\n",
    "    total = num1 + num2\n",
    "    diff = num1 - num2\n",
    "    prod = num1 * num2\n",
    "    quot = num1 / num2\n",
    "    return total, diff, prod, quot\n",
    "tt, dd, pp, qq = funct4(100, 20)\n",
    "print (tt, dd, pp, qq)\n",
    "result = funct4(100, 30)\n",
    "print (result, type(result))\n",
    "print (result[0], result[1], result[2], result[3])"
   ]
  },
  {
   "cell_type": "code",
   "execution_count": 19,
   "metadata": {},
   "outputs": [
    {
     "name": "stdout",
     "output_type": "stream",
     "text": [
      "par1 = 100, par2 = 200 and par3 = 300\n",
      "par1 = 100, par2 = 200 and par3 = 333\n",
      "par1 = 100, par2 = 222 and par3 = 333\n",
      "par1 = 111, par2 = 222 and par3 = 333\n",
      "par1 = 100, par2 = 200 and par3 = 300\n",
      "par1 = 100, par2 = 222 and par3 = 300\n"
     ]
    }
   ],
   "source": [
    "# functions with default arguments\n",
    "def funct5(par1 = 111, par2 = 222, par3 = 333):     # positional parameters\n",
    "    print (f\"par1 = {par1}, par2 = {par2} and par3 = {par3}\")\n",
    "    \n",
    "funct5(100, 200, 300)     # positional arguments\n",
    "funct5(100, 200)\n",
    "funct5(100)\n",
    "funct5()\n",
    "funct5(par3 = 300, par2 = 200, par1 = 100)\n",
    "funct5(par3 = 300, par1 = 100)"
   ]
  },
  {
   "cell_type": "code",
   "execution_count": 20,
   "metadata": {},
   "outputs": [
    {
     "name": "stdout",
     "output_type": "stream",
     "text": [
      "600\n",
      "200\n"
     ]
    }
   ],
   "source": [
    "def funct6(par1, par2 = None):\n",
    "    if par2 is None:\n",
    "        return par1 * 2\n",
    "    else:\n",
    "        return par1 + par2\n",
    "print (funct6(100, 500))\n",
    "print (funct6(100))"
   ]
  },
  {
   "cell_type": "code",
   "execution_count": 22,
   "metadata": {},
   "outputs": [
    {
     "name": "stdout",
     "output_type": "stream",
     "text": [
      "10\n",
      "100\n",
      "100\n"
     ]
    }
   ],
   "source": [
    "i = 10\n",
    "def funct7():\n",
    "    global i\n",
    "    i = 100\n",
    "    print (i)\n",
    "\n",
    "print (i)\n",
    "funct7()\n",
    "print (i)"
   ]
  },
  {
   "cell_type": "code",
   "execution_count": 24,
   "metadata": {},
   "outputs": [
    {
     "name": "stdout",
     "output_type": "stream",
     "text": [
      "3 (11, 22, 33) <class 'tuple'>\n",
      "5 (100, 200, 300, 400, 500) <class 'tuple'>\n",
      "2 (111, 222) <class 'tuple'>\n"
     ]
    }
   ],
   "source": [
    "# functions with variable number of arguments...\n",
    "def funct8(*arg1):\n",
    "    print (len(arg1), arg1, type(arg1))\n",
    "    \n",
    "funct8(11, 22, 33)\n",
    "funct8(100, 200, 300, 400, 500)\n",
    "funct8(111, 222)"
   ]
  },
  {
   "cell_type": "code",
   "execution_count": 26,
   "metadata": {},
   "outputs": [
    {
     "name": "stdout",
     "output_type": "stream",
     "text": [
      "3 {'par1': 11, 'par2': 22, 'par3': 33} <class 'dict'>\n",
      "4 {'name': 'Amit', 'salary': 40000, 'location': 'Delhi', 'gender': 'Male'} <class 'dict'>\n",
      "3 {'name': 'Apple', 'color': 'Red', 'price': 100} <class 'dict'>\n"
     ]
    }
   ],
   "source": [
    "# functions with variable number of arguments...\n",
    "def funct9(**kwarg1):\n",
    "    print (len(kwarg1), kwarg1, type(kwarg1))\n",
    "    \n",
    "funct9(par1 = 11, par2 = 22, par3 = 33)\n",
    "funct9(name = \"Amit\", salary = 40000, location = \"Delhi\", gender = \"Male\")\n",
    "funct9(name = \"Apple\", color = \"Red\", price = 100)"
   ]
  },
  {
   "cell_type": "code",
   "execution_count": 27,
   "metadata": {},
   "outputs": [
    {
     "name": "stdout",
     "output_type": "stream",
     "text": [
      "4 (11, 22, 33, 44) <class 'tuple'>\n",
      "3 {'name': 'Amit', 'salary': 40000, 'location': 'Delhi'} <class 'dict'>\n",
      "5 (11, 22, 33, 44, 55) <class 'tuple'>\n",
      "0 {} <class 'dict'>\n",
      "0 () <class 'tuple'>\n",
      "4 {'name': 'Amit', 'salary': 40000, 'location': 'Delhi', 'gender': 'Male'} <class 'dict'>\n"
     ]
    }
   ],
   "source": [
    "# functions with variable number of arguments...\n",
    "def funct10(*arg1, **kwarg2):\n",
    "    print (len(arg1), arg1, type(arg1))\n",
    "    print (len(kwarg2), kwarg2, type(kwarg2))\n",
    "    \n",
    "funct10(11, 22, 33, 44, name = \"Amit\", salary = 40000, location = \"Delhi\")\n",
    "funct10(11, 22, 33, 44, 55)\n",
    "funct10(name = \"Amit\", salary = 40000, location = \"Delhi\", gender = \"Male\")"
   ]
  },
  {
   "cell_type": "code",
   "execution_count": 34,
   "metadata": {},
   "outputs": [
    {
     "name": "stdout",
     "output_type": "stream",
     "text": [
      "So the factorial of 5 is 120\n",
      "So the factorial of 7 is 5040\n",
      "<class 'function'>\n"
     ]
    }
   ],
   "source": [
    "# non-recursive factorial calculation function\n",
    "def fact_cal_nr(num):\n",
    "    if (num == 0 or num == 1):\n",
    "        return 1\n",
    "    fact = num\n",
    "    for i in range(2, num):\n",
    "        fact *= i\n",
    "    return fact\n",
    "\n",
    "n = 5\n",
    "print (f\"So the factorial of {n} is {fact_cal_nr(n)}\")\n",
    "n = 7\n",
    "print (f\"So the factorial of {n} is {fact_cal_nr(n)}\")\n",
    "print (type(fact_cal_nr))"
   ]
  },
  {
   "cell_type": "code",
   "execution_count": 32,
   "metadata": {},
   "outputs": [
    {
     "name": "stdout",
     "output_type": "stream",
     "text": [
      "So the factorial of 5 is 120\n",
      "So the factorial of 7 is 5040\n"
     ]
    }
   ],
   "source": [
    "# non-recursive factorial calculation function\n",
    "def fact_cal_r(num):\n",
    "    if (num == 0 or num == 1):     # base case\n",
    "        return 1\n",
    "    return num * fact_cal_r(num - 1)     # recursive call\n",
    "\n",
    "n = 5\n",
    "print (f\"So the factorial of {n} is {fact_cal_r(n)}\")\n",
    "n = 7\n",
    "print (f\"So the factorial of {n} is {fact_cal_r(n)}\")"
   ]
  },
  {
   "cell_type": "code",
   "execution_count": 35,
   "metadata": {},
   "outputs": [
    {
     "name": "stdout",
     "output_type": "stream",
     "text": [
      "So square of 3 is 9\n",
      "So square of 5 is 25\n",
      "<class 'function'>\n"
     ]
    }
   ],
   "source": [
    "# use of lambda function\n",
    "mySquare = lambda num: num * num\n",
    "\n",
    "n = 3\n",
    "print(f\"So square of {n} is {mySquare(n)}\") \n",
    "n = 5\n",
    "print(f\"So square of {n} is {mySquare(n)}\") \n",
    "print (type(mySquare))"
   ]
  },
  {
   "cell_type": "code",
   "execution_count": 36,
   "metadata": {},
   "outputs": [
    {
     "name": "stdout",
     "output_type": "stream",
     "text": [
      "So the sum of 300 and 400 is 700\n",
      "So the sum of 33 and 44 is 77\n",
      "<class 'function'>\n"
     ]
    }
   ],
   "source": [
    "# use of lambda function\n",
    "myAddition = lambda num1, num2: num1 + num2\n",
    "\n",
    "n1 = 300\n",
    "n2 = 400\n",
    "print(f\"So the sum of {n1} and {n2} is {myAddition(n1, n2)}\") \n",
    "n1 = 33\n",
    "n2 = 44\n",
    "print(f\"So the sum of {n1} and {n2} is {myAddition(n1, n2)}\") \n",
    "print (type(myAddition))"
   ]
  },
  {
   "cell_type": "code",
   "execution_count": 39,
   "metadata": {},
   "outputs": [
    {
     "name": "stdout",
     "output_type": "stream",
     "text": [
      "30\n",
      "80\n",
      "200\n"
     ]
    }
   ],
   "source": [
    "def funct11(num):\n",
    "    myprod = lambda n: n * num\n",
    "    return myprod\n",
    "\n",
    "functvar10 = funct11(10)\n",
    "functvar20 = funct11(20)\n",
    "print (functvar10(3))\n",
    "print (functvar20(4))\n",
    "print (funct11(40)(5))"
   ]
  },
  {
   "cell_type": "code",
   "execution_count": 40,
   "metadata": {},
   "outputs": [
    {
     "name": "stdin",
     "output_type": "stream",
     "text": [
      "Please enter the number of terms... 5\n"
     ]
    },
    {
     "name": "stdout",
     "output_type": "stream",
     "text": [
      "So current term added is 4 and total is 4\n",
      "So current term added is 7 and total is 11\n",
      "So current term added is 4 and total is 15\n",
      "So current term added is 7 and total is 22\n",
      "So current term added is 4 and total is 26\n",
      "So the final total is 26\n"
     ]
    }
   ],
   "source": [
    "# total = 4 + 7 + 4 + 7 + 4 + 7 + ... n terms\n",
    "n = int(input(\"Please enter the number of terms...\"))\n",
    "term = 4\n",
    "total = 0\n",
    "for i in range(n):\n",
    "    total += term\n",
    "    print (f\"So current term added is {term} and total is {total}\")\n",
    "    if (term == 4): term = 7\n",
    "    else: term = 4\n",
    "print (\"So the final total is\", total)"
   ]
  },
  {
   "cell_type": "code",
   "execution_count": 43,
   "metadata": {},
   "outputs": [
    {
     "name": "stdin",
     "output_type": "stream",
     "text": [
      "Please enter the number of terms... 6\n"
     ]
    },
    {
     "name": "stdout",
     "output_type": "stream",
     "text": [
      "So current term added is 4 and total is 4\n",
      "So current term added is 7 and total is 11\n",
      "So current term added is 4 and total is 15\n",
      "So current term added is 7 and total is 22\n",
      "So current term added is 4 and total is 26\n",
      "So current term added is 7 and total is 33\n",
      "So the final total is 33\n"
     ]
    }
   ],
   "source": [
    "# total = 4 + 7 + 4 + 7 + 4 + 7 + ... n terms\n",
    "n = int(input(\"Please enter the number of terms...\"))\n",
    "term = 4\n",
    "total = 0\n",
    "for i in range(n):\n",
    "    total += term\n",
    "    print (f\"So current term added is {term} and total is {total}\")\n",
    "    term = 4 if (term == 7) else 7\n",
    "print (\"So the final total is\", total)"
   ]
  },
  {
   "cell_type": "code",
   "execution_count": 44,
   "metadata": {},
   "outputs": [
    {
     "name": "stdout",
     "output_type": "stream",
     "text": [
      "120\n",
      "720\n"
     ]
    }
   ],
   "source": [
    "myFact = lambda num: 1 if (num == 0 or num == 1) else num * myFact(num - 1)\n",
    "print (myFact(5))\n",
    "print (myFact(6))"
   ]
  },
  {
   "cell_type": "code",
   "execution_count": 46,
   "metadata": {},
   "outputs": [
    {
     "name": "stdin",
     "output_type": "stream",
     "text": [
      "Please enter one integer:  121\n"
     ]
    },
    {
     "name": "stdout",
     "output_type": "stream",
     "text": [
      "Odd number...\n"
     ]
    }
   ],
   "source": [
    "import numpy as np\n",
    "num = int(input(\"Please enter one integer: \"))\n",
    "result = np.where(num % 2 == 0, \"Even number...\", \"Odd number...\")\n",
    "print (result)"
   ]
  },
  {
   "cell_type": "markdown",
   "metadata": {},
   "source": [
    "### Python map() function"
   ]
  },
  {
   "cell_type": "raw",
   "metadata": {},
   "source": [
    "The map() function executes a specified function for each item in an iterable. The item is sent to the function as a parameter,\n",
    "Syntax: map(function, iterables)"
   ]
  },
  {
   "cell_type": "code",
   "execution_count": 50,
   "metadata": {},
   "outputs": [
    {
     "name": "stdout",
     "output_type": "stream",
     "text": [
      "[6, 6, 7, 8]\n"
     ]
    }
   ],
   "source": [
    "def myFunct1(item):\n",
    "    return len(item)\n",
    "list1 = list(map(myFunct1, ('Sunday', 'Monday', 'Tuesday', 'Thursday')))\n",
    "print (list1)"
   ]
  },
  {
   "cell_type": "code",
   "execution_count": 52,
   "metadata": {},
   "outputs": [
    {
     "name": "stdout",
     "output_type": "stream",
     "text": [
      "['aaAA', 'bbBB', 'ccCC']\n"
     ]
    }
   ],
   "source": [
    "def myFunct2(a, b):\n",
    "    return a + b\n",
    "list1 = list(map(myFunct2, ('aa', 'bb', 'cc'), ('AA', 'BB', 'CC')))\n",
    "print (list1)"
   ]
  },
  {
   "cell_type": "markdown",
   "metadata": {},
   "source": [
    "### Python filter() function"
   ]
  },
  {
   "cell_type": "raw",
   "metadata": {},
   "source": [
    "the filter() function returns an iterator where the items are filtered through a function to test if the item is accepted or not.\n",
    "Syntax: filter(functiom, iterable)"
   ]
  },
  {
   "cell_type": "code",
   "execution_count": 54,
   "metadata": {},
   "outputs": [
    {
     "name": "stdout",
     "output_type": "stream",
     "text": [
      "[18, 24, 32]\n"
     ]
    }
   ],
   "source": [
    "ages = [5, 12, 17, 18, 24, 32, 7]\n",
    "def myFunct(x):\n",
    "    if (x < 18): return False\n",
    "    else: return True\n",
    "    \n",
    "adults = list(filter(myFunct, ages))\n",
    "print (adults)"
   ]
  },
  {
   "cell_type": "markdown",
   "metadata": {},
   "source": [
    "### Python reduce() function"
   ]
  },
  {
   "cell_type": "raw",
   "metadata": {},
   "source": [
    "The reduce() function reduce and is being applied on a function with two arguments cumulatively to the elments of an iterable, optionally starting with an intial argument.\n",
    "Syntax: reduce(funct, iterable [, initial]) "
   ]
  },
  {
   "cell_type": "code",
   "execution_count": 57,
   "metadata": {},
   "outputs": [
    {
     "name": "stdout",
     "output_type": "stream",
     "text": [
      "68\n"
     ]
    }
   ],
   "source": [
    "from functools import reduce\n",
    "numbers = [3, 4, 6, 9, 34, 12]\n",
    "def custom_sum(first, second):\n",
    "    return first + second\n",
    "\n",
    "result = reduce(custom_sum, numbers)\n",
    "print (result)"
   ]
  },
  {
   "cell_type": "code",
   "execution_count": 58,
   "metadata": {},
   "outputs": [
    {
     "name": "stdout",
     "output_type": "stream",
     "text": [
      "168\n"
     ]
    }
   ],
   "source": [
    "from functools import reduce\n",
    "numbers = [3, 4, 6, 9, 34, 12]\n",
    "def custom_sum(first, second):\n",
    "    return first + second\n",
    "\n",
    "result = reduce(custom_sum, numbers, 100)\n",
    "print (result)"
   ]
  },
  {
   "cell_type": "markdown",
   "metadata": {},
   "source": [
    "### Python zip() function"
   ]
  },
  {
   "cell_type": "code",
   "execution_count": 61,
   "metadata": {},
   "outputs": [
    {
     "name": "stdout",
     "output_type": "stream",
     "text": [
      "[('apple', 80), ('banana', 40), ('orange', 70)]\n",
      "{'apple': 80, 'banana': 40, 'orange': 70}\n"
     ]
    }
   ],
   "source": [
    "fruit = (\"apple\", \"banana\", \"orange\")\n",
    "price = (80, 40, 70)\n",
    "x = list(zip(fruit, price))\n",
    "print (x)\n",
    "x = dict(list(zip(fruit, price)))\n",
    "print (x)"
   ]
  },
  {
   "cell_type": "markdown",
   "metadata": {},
   "source": [
    "### Cartesian product of list elements"
   ]
  },
  {
   "cell_type": "code",
   "execution_count": 63,
   "metadata": {},
   "outputs": [
    {
     "name": "stdout",
     "output_type": "stream",
     "text": [
      "[(1, 5), (1, 6), (1, 7), (2, 5), (2, 6), (2, 7), (3, 5), (3, 6), (3, 7)]\n"
     ]
    }
   ],
   "source": [
    "from itertools import product\n",
    "list1 = [1, 2, 3]\n",
    "list2 = [5, 6, 7]\n",
    "print (list(product(list1, list2)))"
   ]
  },
  {
   "cell_type": "markdown",
   "metadata": {},
   "source": [
    "### Exception handling..."
   ]
  },
  {
   "cell_type": "code",
   "execution_count": 73,
   "metadata": {},
   "outputs": [
    {
     "name": "stdin",
     "output_type": "stream",
     "text": [
      "Please enter the first number:  100\n",
      "Please enter the second number:  0\n"
     ]
    },
    {
     "name": "stdout",
     "output_type": "stream",
     "text": [
      "ZDE: Division by ZERO is Illegal...!!!\n",
      "ZDE: Exception type: <class 'ZeroDivisionError'>\n",
      "ZDE: Exception message: division by zero\n",
      "End of the program...\n"
     ]
    }
   ],
   "source": [
    "try:\n",
    "    num1 = int(input(\"Please enter the first number: \"))\n",
    "    num2 = int(input(\"Please enter the second number: \"))\n",
    "    quot = num1 / num2\n",
    "    print (f\"So {num1} / {num2} = {quot}\")\n",
    "    print (\"Completed the calculation...\")\n",
    "except ValueError as ve:\n",
    "    print (\"VE: Please enter integer values...\")\n",
    "    print (\"VE: Exception type:\", type(ve))\n",
    "    print (\"VE: Exception message:\", ve)\n",
    "except ZeroDivisionError as zde:\n",
    "    print (\"ZDE: Division by ZERO is Illegal...!!!\")\n",
    "    print (\"ZDE: Exception type:\", type(zde))\n",
    "    print (\"ZDE: Exception message:\", zde)\n",
    "print (\"End of the program...\")"
   ]
  },
  {
   "cell_type": "code",
   "execution_count": 86,
   "metadata": {},
   "outputs": [
    {
     "name": "stdin",
     "output_type": "stream",
     "text": [
      "Please enter the first number:  100\n",
      "Please enter the second number:  0\n"
     ]
    },
    {
     "name": "stdout",
     "output_type": "stream",
     "text": [
      "EX: Other exception has taken place...\n",
      "EX: Exception type: <class 'ZeroDivisionError'>\n",
      "EX: Exception message: division by zero\n",
      "Finally block always executes...\n",
      "This should be the last block...\n",
      "End of the program...\n"
     ]
    }
   ],
   "source": [
    "try:\n",
    "    num1 = int(input(\"Please enter the first number: \"))\n",
    "    num2 = int(input(\"Please enter the second number: \"))\n",
    "    quot = num1 / num2\n",
    "    print (f\"So {num1} / {num2} = {quot}\")\n",
    "    print (\"Completed the calculation...\")\n",
    "except ValueError as ve:\n",
    "    print (\"VE: Please enter integer values...\")\n",
    "    print (\"VE: Exception type:\", type(ve))\n",
    "    print (\"VE: Exception message:\", ve)\n",
    "except ZeroDivisionError as zde:\n",
    "    print (\"ZDE: Division by ZERO is Illegal...!!!\")\n",
    "    print (\"ZDE: Exception type:\", type(zde))\n",
    "    print (\"ZDE: Exception message:\", zde)\n",
    "except Exception as ex:\n",
    "    print (\"EX: Other exception has taken place...\")\n",
    "    print (\"EX: Exception type:\", type(ex))\n",
    "    print (\"EX: Exception message:\", ex)\n",
    "else:\n",
    "    print (\"Had a smooth program execution...\")\n",
    "    print (\"Else block is executing...\")\n",
    "finally:\n",
    "    print (\"Finally block always executes...\")\n",
    "    print (\"This should be the last block...\")\n",
    "print (\"End of the program...\")"
   ]
  },
  {
   "cell_type": "code",
   "execution_count": null,
   "metadata": {},
   "outputs": [],
   "source": [
    "try:\n",
    "    num1 = int(input(\"Please enter the first number between -100 to 100: \"))\n",
    "    num2 = int(input(\"Please enter the second number between -100 to 100: \"))\n",
    "    if (num1 < -100 or num2 < -100): raise NameError(\"BELOW-100\")  # raising custom exception\n",
    "    if (num1 > 100 or num2 > 100): raise NameError(\"ABOVE100\")\n",
    "    quot = num1 / num2\n",
    "    print (f\"So {num1} / {num2} = {quot}\")\n",
    "    print (\"Completed the calculation...\")\n",
    "except NameError as ne:\n",
    "    print (\"NE: Input value is out of range...\")\n",
    "    print (\"NE: Exception type:\", type(ne))\n",
    "    if (str(ne) == \"BELOW-100\"): print (\"NE: Input value is below -100...!!!\")\n",
    "    if (str(ne) == \"ABOVE100\"): print (\"NE: Input value is above 100...!!!\")\n",
    "except ValueError as ve:\n",
    "    print (\"VE: Please enter integer values...\")\n",
    "    print (\"VE: Exception type:\", type(ve))\n",
    "    print (\"VE: Exception message:\", ve)\n",
    "except ZeroDivisionError as zde:\n",
    "    print (\"ZDE: Division by ZERO is Illegal...!!!\")\n",
    "    print (\"ZDE: Exception type:\", type(zde))\n",
    "    print (\"ZDE: Exception message:\", zde)\n",
    "except Exception as ex:\n",
    "    print (\"EX: Other exception has taken place...\")\n",
    "    print (\"EX: Exception type:\", type(ex))\n",
    "    print (\"EX: Exception message:\", ex)\n",
    "else:\n",
    "    print (\"Had a smooth program execution...\")\n",
    "    print (\"Else block is executing...\")\n",
    "finally:\n",
    "    print (\"Finally block always executes...\")\n",
    "    print (\"This should be the last block...\")\n",
    "print (\"End of the program...\")"
   ]
  },
  {
   "cell_type": "code",
   "execution_count": 2,
   "metadata": {},
   "outputs": [
    {
     "name": "stdin",
     "output_type": "stream",
     "text": [
      "Please enter the first number between -100 to 100:  -900\n",
      "Please enter the second number between -100 to 100:  20\n"
     ]
    },
    {
     "name": "stdout",
     "output_type": "stream",
     "text": [
      "NE: Input value is out of range...\n",
      "NE: Exception type: <class 'NameError'>\n",
      "BELOW-100 BELOW-100 False True\n",
      "NE: Input value is below -100...!!!\n",
      "Finally block always executes...\n",
      "This should be the last block...\n"
     ]
    },
    {
     "name": "stdin",
     "output_type": "stream",
     "text": [
      "Please enter the first number between -100 to 100:  100\n",
      "Please enter the second number between -100 to 100:  20\n"
     ]
    },
    {
     "name": "stdout",
     "output_type": "stream",
     "text": [
      "So 100 / 20 = 5.0\n",
      "Completed the calculation...\n",
      "Had a smooth program execution...\n",
      "Else block is executing...\n",
      "Finally block always executes...\n",
      "This should be the last block...\n",
      "End of the program...\n"
     ]
    }
   ],
   "source": [
    "while (True):\n",
    "    try:\n",
    "        num1 = int(input(\"Please enter the first number between -100 to 100: \"))\n",
    "        num2 = int(input(\"Please enter the second number between -100 to 100: \"))\n",
    "        if (num1 < -100 or num2 < -100): raise NameError(\"BELOW-100\")  # raising custom exception\n",
    "        if (num1 > 100 or num2 > 100): raise NameError(\"ABOVE100\")\n",
    "        quot = num1 / num2\n",
    "        print (f\"So {num1} / {num2} = {quot}\")\n",
    "        print (\"Completed the calculation...\")\n",
    "    except NameError as ne:\n",
    "        print (\"NE: Input value is out of range...\")\n",
    "        print (\"NE: Exception type:\", type(ne))\n",
    "        print (ne, str(ne), ne == \"BELOW-100\", str(ne) == \"BELOW-100\")\n",
    "        if (str(ne) == \"BELOW-100\"): print (\"NE: Input value is below -100...!!!\")\n",
    "        if (str(ne) == \"ABOVE100\"): print (\"NE: Input value is above 100...!!!\")\n",
    "    except ValueError as ve:\n",
    "        print (\"VE: Please enter integer values...\")\n",
    "        print (\"VE: Exception type:\", type(ve))\n",
    "        print (\"VE: Exception message:\", ve)\n",
    "    except ZeroDivisionError as zde:\n",
    "        print (\"ZDE: Division by ZERO is Illegal...!!!\")\n",
    "        print (\"ZDE: Exception type:\", type(zde))\n",
    "        print (\"ZDE: Exception message:\", zde)\n",
    "    except Exception as ex:\n",
    "        print (\"EX: Other exception has taken place...\")\n",
    "        print (\"EX: Exception type:\", type(ex))\n",
    "        print (\"EX: Exception message:\", ex)\n",
    "    else:\n",
    "        print (\"Had a smooth program execution...\")\n",
    "        print (\"Else block is executing...\")\n",
    "        break\n",
    "    finally:\n",
    "        print (\"Finally block always executes...\")\n",
    "        print (\"This should be the last block...\")\n",
    "print (\"End of the program...\")"
   ]
  },
  {
   "cell_type": "code",
   "execution_count": 5,
   "metadata": {},
   "outputs": [
    {
     "name": "stdout",
     "output_type": "stream",
     "text": [
      "[10, 2, -3, 40]\n",
      "[14, -22, 8, -10]\n",
      "[6, -7, 10, 1]\n",
      "[[10, 14, 6], [2, -22, -7], [-3, 8, 10], [40, -10, 1]]\n",
      "[[2, -22, -7], [40, -10, 1], [10, 14, 6], [-3, 8, 10]]\n"
     ]
    }
   ],
   "source": [
    "list1 = [10, 2, -3, 40]      # 2 40 10 -3\n",
    "list2 = [14, -22, 8, -10]    # -22 -10 14 8\n",
    "list3 = [6, -7, 10, 1]       # -7 1 6 10 (Sorted in the ascending order)\n",
    "final_list = []\n",
    "for i in range(len(list1)):\n",
    "    final_list.append([list1[i], list2[i], list3[i]])\n",
    "print (list1)\n",
    "print (list2)\n",
    "print (list3)\n",
    "print (final_list)\n",
    "final_list1 = sorted(final_list, key = lambda v: v[-1])\n",
    "print (final_list1)"
   ]
  },
  {
   "cell_type": "code",
   "execution_count": 6,
   "metadata": {},
   "outputs": [
    {
     "name": "stdout",
     "output_type": "stream",
     "text": [
      "[10, 2, -3, 40] 40 40\n"
     ]
    }
   ],
   "source": [
    "list1 = [10, 2, -3, 40]\n",
    "print (list1, list1[3], list1[-1])"
   ]
  },
  {
   "cell_type": "markdown",
   "metadata": {},
   "source": [
    "### Multiple integers as user input"
   ]
  },
  {
   "cell_type": "code",
   "execution_count": 9,
   "metadata": {},
   "outputs": [
    {
     "name": "stdin",
     "output_type": "stream",
     "text": [
      "Enter a set of numbers: 11 44 22 66 88 22\n"
     ]
    },
    {
     "name": "stdout",
     "output_type": "stream",
     "text": [
      "['11', '44', '22', '66', '88', '22']\n",
      "[11, 44, 22, 66, 88, 22]\n"
     ]
    }
   ],
   "source": [
    "my_input = input(\"Enter a set of numbers:\").split(\" \")\n",
    "print (my_input)\n",
    "my_list1 = list(map(int, my_input))\n",
    "print (my_list1)"
   ]
  },
  {
   "cell_type": "code",
   "execution_count": 1,
   "metadata": {},
   "outputs": [
    {
     "name": "stdin",
     "output_type": "stream",
     "text": [
      " 11\n",
      " 22\n",
      " 33\n",
      " 44\n",
      " 55\n",
      " 66\n"
     ]
    },
    {
     "name": "stdout",
     "output_type": "stream",
     "text": [
      "[[11, 22], [33, 44], [55, 66]]\n"
     ]
    }
   ],
   "source": [
    "list1 = [[int(input()) for i in range(2)] for j in range(3)]\n",
    "print (list1)"
   ]
  },
  {
   "cell_type": "code",
   "execution_count": 5,
   "metadata": {},
   "outputs": [
    {
     "name": "stdout",
     "output_type": "stream",
     "text": [
      "10 <class 'int'> 140719041343520\n",
      "10 <class 'int'> 140719041343520\n",
      "100 <class 'int'> 140719041346400\n",
      "[11, 22, 33, 44] <class 'list'> 212250199304\n"
     ]
    }
   ],
   "source": [
    "x = 10\n",
    "print (x, type(x), id(x))\n",
    "y = 10\n",
    "print (y, type(y), id(y))\n",
    "y = 100\n",
    "print (y, type(y), id(y))\n",
    "x = [11, 22, 33, 44]     # implicit object\n",
    "print (x, type(x), id(x))"
   ]
  },
  {
   "cell_type": "markdown",
   "metadata": {},
   "source": [
    "### Object Oriented Programming"
   ]
  },
  {
   "cell_type": "code",
   "execution_count": 7,
   "metadata": {},
   "outputs": [
    {
     "name": "stdout",
     "output_type": "stream",
     "text": [
      "This is a doc string...\n",
      "This is a doc string...\n"
     ]
    }
   ],
   "source": [
    "class MyFirstClass:\n",
    "    \"\"\"This is a doc string...\"\"\"\n",
    "ob1 = MyFirstClass()\n",
    "print (ob1.__doc__)\n",
    "print (MyFirstClass.__doc__)"
   ]
  },
  {
   "cell_type": "code",
   "execution_count": 10,
   "metadata": {},
   "outputs": [
    {
     "name": "stdout",
     "output_type": "stream",
     "text": [
      "str(object='') -> str\n",
      "str(bytes_or_buffer[, encoding[, errors]]) -> str\n",
      "\n",
      "Create a new string object from the given object. If encoding or\n",
      "errors is specified, then the object must expose a data buffer\n",
      "that will be decoded using the given encoding and error handler.\n",
      "Otherwise, returns the result of object.__str__() (if defined)\n",
      "or repr(object).\n",
      "encoding defaults to sys.getdefaultencoding().\n",
      "errors defaults to 'strict'.\n",
      "int([x]) -> integer\n",
      "int(x, base=10) -> integer\n",
      "\n",
      "Convert a number or string to an integer, or return 0 if no arguments\n",
      "are given.  If x is a number, return x.__int__().  For floating point\n",
      "numbers, this truncates towards zero.\n",
      "\n",
      "If x is not a number or if base is given, then x must be a string,\n",
      "bytes, or bytearray instance representing an integer literal in the\n",
      "given base.  The literal can be preceded by '+' or '-' and be surrounded\n",
      "by whitespace.  The base defaults to 10.  Valid bases are 0 and 2-36.\n",
      "Base 0 means to interpret the base from the string as an integer literal.\n",
      ">>> int('0b100', base=0)\n",
      "4\n"
     ]
    }
   ],
   "source": [
    "print(str.__doc__)\n",
    "print (int.__doc__)"
   ]
  },
  {
   "cell_type": "code",
   "execution_count": 6,
   "metadata": {},
   "outputs": [
    {
     "name": "stdout",
     "output_type": "stream",
     "text": [
      "Executing the constructor method...\n",
      "Class variable = 100, 100\n",
      "Instance variable = 111\n",
      "Updating class variable...\n",
      "Executing the constructor method...\n",
      "Class variable = 900, 900\n",
      "Instance variable = 222\n",
      "This is a doc string...\n"
     ]
    }
   ],
   "source": [
    "class MyClass1:\n",
    "    \"\"\"This is a doc string...\"\"\"\n",
    "    __class_var1 = 100\n",
    "    def __init__(self, data1):\n",
    "        print (\"Executing the constructor method...\")\n",
    "        self.__inst_var1 = data1\n",
    "    def display(self):\n",
    "        # print (\"Executing the display() method...\")\n",
    "        print (f\"Class variable = {MyClass1.__class_var1}, {self.__class_var1}\")\n",
    "        print (f\"Instance variable = {self.__inst_var1}\")\n",
    "    def update(self):\n",
    "        print (\"Updating class variable...\")\n",
    "        MyClass1.__class_var1 = 900\n",
    "    def __del__(self):\n",
    "        print (\"Executing the destructor method...\")\n",
    "ob1 = MyClass1(111)\n",
    "ob1.display()\n",
    "ob1.update()\n",
    "ob2 = MyClass1(222)\n",
    "ob2.display()\n",
    "print (ob1.__doc__)"
   ]
  },
  {
   "cell_type": "code",
   "execution_count": 2,
   "metadata": {},
   "outputs": [
    {
     "name": "stdout",
     "output_type": "stream",
     "text": [
      "Class variable = 900, 900\n",
      "Instance variable = 111\n"
     ]
    }
   ],
   "source": [
    "ob1.display()"
   ]
  },
  {
   "cell_type": "code",
   "execution_count": 3,
   "metadata": {},
   "outputs": [
    {
     "name": "stdout",
     "output_type": "stream",
     "text": [
      "Executing the destructor method...\n",
      "Executing the destructor method...\n"
     ]
    }
   ],
   "source": [
    "del ob1\n",
    "del ob2"
   ]
  },
  {
   "cell_type": "code",
   "execution_count": 7,
   "metadata": {},
   "outputs": [
    {
     "name": "stdout",
     "output_type": "stream",
     "text": [
      "Executing the destructor method...\n",
      "This is a doc string...\n"
     ]
    }
   ],
   "source": [
    "class MyClass2:\n",
    "    \"\"\"This is a doc string...\"\"\"\n",
    "ob1 = MyClass2()\n",
    "print (ob1.__doc__)"
   ]
  },
  {
   "cell_type": "code",
   "execution_count": 8,
   "metadata": {},
   "outputs": [
    {
     "name": "stdout",
     "output_type": "stream",
     "text": [
      "Executing the destructor method...\n"
     ]
    }
   ],
   "source": [
    "class MyClass3:\n",
    "    pass\n",
    "ob2 = MyClass3()"
   ]
  },
  {
   "cell_type": "code",
   "execution_count": 9,
   "metadata": {},
   "outputs": [
    {
     "name": "stdout",
     "output_type": "stream",
     "text": [
      "Destructor method is executing...\n",
      "Destructor method is executing...\n",
      "Destructor method is executing...\n",
      "So the number of objects created = 5\n"
     ]
    }
   ],
   "source": [
    "# Keeping the count of number of objects created against a class\n",
    "class MyClass4:\n",
    "    count = 0    # defining a class variable\n",
    "    def __init__(self):\n",
    "        MyClass4.count += 1\n",
    "ob1 = MyClass4()\n",
    "ob2 = MyClass4()\n",
    "ob3 = MyClass4()\n",
    "ob4 = MyClass4()\n",
    "ob5 = MyClass4()\n",
    "print (\"So the number of objects created =\", MyClass.count)"
   ]
  },
  {
   "cell_type": "code",
   "execution_count": 10,
   "metadata": {},
   "outputs": [
    {
     "name": "stdout",
     "output_type": "stream",
     "text": [
      "Destructor method is executing...\n",
      "Destructor method is executing...\n"
     ]
    }
   ],
   "source": [
    "# Keeping the count of number of objects created against a class\n",
    "class MyClass5:\n",
    "    count = 0    # defining a class variable\n",
    "    def __init__(self):\n",
    "        MyClass5.count += 1\n",
    "    def __del__(self):\n",
    "        print (\"Destructor method is executing...\")\n",
    "ob1 = MyClass5()\n",
    "ob2 = MyClass5()\n",
    "del ob1\n",
    "del ob2"
   ]
  },
  {
   "cell_type": "code",
   "execution_count": 11,
   "metadata": {},
   "outputs": [
    {
     "name": "stdout",
     "output_type": "stream",
     "text": [
      "So the number of objects created = 5\n"
     ]
    }
   ],
   "source": [
    "ob3 = MyClass5()\n",
    "ob4 = MyClass5()\n",
    "ob5 = MyClass5()\n",
    "print (\"So the number of objects created =\", MyClass.count)"
   ]
  },
  {
   "cell_type": "code",
   "execution_count": 18,
   "metadata": {},
   "outputs": [
    {
     "name": "stdout",
     "output_type": "stream",
     "text": [
      "Executing instance method... <__main__.MyClass6 object at 0x000000AAAECD4D68>\n",
      "classVar = 333\n",
      "instVar = 100\n",
      "Executing class method <class '__main__.MyClass6'>\n",
      "classVar = 444\n",
      "Executing class method <class '__main__.MyClass6'>\n",
      "classVar = 444\n",
      "Executing static method...\n",
      "class = 555\n",
      "Executing static method...\n",
      "class = 555\n"
     ]
    }
   ],
   "source": [
    "# There are three different methods in Python: instance, class and static methods\n",
    "class MyClass6:\n",
    "    classVar = 111      # class variable\n",
    "    # declaring instance method\n",
    "    def instMethod(self):  \n",
    "        print (\"Executing instance method...\", self)\n",
    "        self.instVar = 100   # instance variable\n",
    "        MyClass6.classVar = 333\n",
    "        print (f\"classVar = {MyClass6.classVar}\")\n",
    "        print (f\"instVar = {self.instVar}\")\n",
    "    @classmethod             # annotation or decorator\n",
    "    def classMethod(cla):\n",
    "        print (\"Executing class method\", cla)\n",
    "        cla.classVar = 444\n",
    "        print (f\"classVar = {MyClass6.classVar}\")\n",
    "        # print (f\"instVar = {cla.instVar}\")\n",
    "    @staticmethod\n",
    "    def staticMethod():\n",
    "        print (\"Executing static method...\")\n",
    "        MyClass6.classVar = 555\n",
    "        print (f\"class = {MyClass6.classVar}\")\n",
    "        \n",
    "ob1 = MyClass6()\n",
    "ob1.instMethod()\n",
    "ob1.classMethod()\n",
    "MyClass6.classMethod()\n",
    "ob1.staticMethod()\n",
    "MyClass6.staticMethod()"
   ]
  },
  {
   "cell_type": "code",
   "execution_count": 31,
   "metadata": {},
   "outputs": [
    {
     "name": "stdout",
     "output_type": "stream",
     "text": [
      "False\n",
      "True\n",
      "True\n",
      "True\n",
      "100\n",
      "500\n",
      "True\n",
      "False\n",
      "{'instVar1': 500}\n",
      "['__class__', '__delattr__', '__dict__', '__dir__', '__doc__', '__eq__', '__format__', '__ge__', '__getattribute__', '__gt__', '__hash__', '__init__', '__init_subclass__', '__le__', '__lt__', '__module__', '__ne__', '__new__', '__reduce__', '__reduce_ex__', '__repr__', '__setattr__', '__sizeof__', '__str__', '__subclasshook__', '__weakref__', 'classVar1', 'function1', 'function2', 'instVar1']\n",
      "I am __str__() method executing...\n"
     ]
    }
   ],
   "source": [
    "# builtin Python methods...\n",
    "class MyClass7:\n",
    "    def __init__(self):\n",
    "        print (\"Hello\")\n",
    "class MyClass8:\n",
    "    classVar1 = 100\n",
    "    def __init__(self):\n",
    "        self.instVar1 = 111\n",
    "    def function1(self):\n",
    "        print (\"instVar1 =\", self.instVar1)\n",
    "class MyClass9(MyClass8):\n",
    "    \"\"\"This is a document string...\"\"\"\n",
    "    def function2(self):\n",
    "        print (\"function2() is executing...\")\n",
    "    def __str__(self):\n",
    "        return \"I am __str__() method executing...\"\n",
    "ob1 = MyClass9()\n",
    "print (isinstance(ob1, MyClass7))\n",
    "print (isinstance(ob1, MyClass8))\n",
    "print (isinstance(ob1, MyClass9))\n",
    "print (hasattr(ob1, \"classVar1\"))\n",
    "print (getattr(ob1, \"classVar1\"))\n",
    "setattr(ob1, \"instVar1\", 500)\n",
    "print (ob1.instVar1)\n",
    "print (issubclass(MyClass9, MyClass8))\n",
    "print (issubclass(MyClass8, MyClass7))\n",
    "print (vars(ob1))  # it returns dictionary of attributes of the object\n",
    "print (dir(ob1))   # it returns a list of all the attributes of the object\n",
    "print (ob1.__str__())"
   ]
  },
  {
   "cell_type": "code",
   "execution_count": 32,
   "metadata": {},
   "outputs": [
    {
     "name": "stdout",
     "output_type": "stream",
     "text": [
      "This is a document string...\n",
      "__main__\n",
      "{'instVar1': 500}\n"
     ]
    }
   ],
   "source": [
    "# built in Python attributes\n",
    "print(ob1.__doc__)\n",
    "print(ob1.__module__)\n",
    "print(ob1.__dict__)"
   ]
  },
  {
   "cell_type": "code",
   "execution_count": 37,
   "metadata": {},
   "outputs": [
    {
     "name": "stdout",
     "output_type": "stream",
     "text": [
      "111\n",
      "222\n",
      "333\n",
      "Public Method is executing...\n",
      "Protected Method is executing...\n",
      "Private Method is executing...\n"
     ]
    }
   ],
   "source": [
    "# dealing with private, protected and public members...\n",
    "class MyClass10:\n",
    "    def __init__(self):\n",
    "        self.publicVar = 111\n",
    "        self._protectedVar = 222\n",
    "        self.__privateVar = 333\n",
    "    def publicMethod(self):\n",
    "        return \"Public Method is executing...\"\n",
    "    def _protectedMethod(self):\n",
    "        return \"Protected Method is executing...\"\n",
    "    def __privateMethod(self):\n",
    "        return \"Private Method is executing...\"\n",
    "ob1 = MyClass10()\n",
    "print (ob1.publicVar)\n",
    "print (ob1._protectedVar)\n",
    "# print (ob1.__privateVar)\n",
    "print (ob1._MyClass10__privateVar)\n",
    "print (ob1.publicMethod())\n",
    "print (ob1._protectedMethod())\n",
    "# print (ob1.__privateMethod())\n",
    "print (ob1._MyClass10__privateMethod())"
   ]
  },
  {
   "cell_type": "markdown",
   "metadata": {},
   "source": [
    "### Dealing with Inheritance"
   ]
  },
  {
   "cell_type": "code",
   "execution_count": 48,
   "metadata": {},
   "outputs": [
    {
     "name": "stdout",
     "output_type": "stream",
     "text": [
      "Derived class constructor executing...\n",
      "Base class constructor executing...\n",
      "Base class constructor executing...\n",
      "Base class constructor executing...\n",
      "Display Base method is executing...\n",
      "Display Derived method executing...\n",
      "Base class constructor executing...\n"
     ]
    }
   ],
   "source": [
    "# single inheritance\n",
    "class Base:\n",
    "    def __init__(self):\n",
    "        print (\"Base class constructor executing...\")\n",
    "    def displayB(self):\n",
    "        print (\"Display Base method is executing...\")\n",
    "class Derived(Base):\n",
    "    def __init__(self):\n",
    "        print (\"Derived class constructor executing...\")\n",
    "        super().__init__()\n",
    "        Base.__init__(self)\n",
    "        super(Derived, self).__init__()\n",
    "    def displayD(self):\n",
    "        print (\"Display Derived method executing...\")\n",
    "ob1 = Derived()\n",
    "ob1.displayB()\n",
    "ob1.displayD()\n",
    "super(Derived, ob1).__init__()"
   ]
  },
  {
   "cell_type": "code",
   "execution_count": 52,
   "metadata": {},
   "outputs": [
    {
     "name": "stdout",
     "output_type": "stream",
     "text": [
      "Base class constructor is executing...\n",
      "Derived2: function() is executing...\n",
      "Derived1: function() is executing...\n",
      "Derived1: function() is executing...\n",
      "Base: function() is executing...\n",
      "Derived1: function() is executing...\n",
      "Base: displayB() is executing...\n",
      "Derived1: displayD1() is executing...\n",
      "Derived2: displayD2() is executing...\n"
     ]
    }
   ],
   "source": [
    "# Multilevel Inheritance\n",
    "class Base:\n",
    "    def __init__(self):\n",
    "        print (\"Base class constructor is executing...\")\n",
    "    def displayB(self):\n",
    "        print (\"Base: displayB() is executing...\")\n",
    "    def function(self):\n",
    "        print (\"Base: function() is executing...\")\n",
    "class Derived1(Base):\n",
    "    def displayD1(self):\n",
    "        print (\"Derived1: displayD1() is executing...\")\n",
    "    def function(self):\n",
    "        print (\"Derived1: function() is executing...\")\n",
    "class Derived2(Derived1):\n",
    "    def displayD2(self):\n",
    "        print (\"Derived2: displayD2() is executing...\")\n",
    "    def function(self):\n",
    "        print (\"Derived2: function() is executing...\")\n",
    "        super().function()\n",
    "        super(Derived2, self).function()\n",
    "        Base.function(self)\n",
    "ob1 = Derived2()\n",
    "ob1.function()\n",
    "super(Derived2, ob1).function()\n",
    "ob1.displayB()\n",
    "ob1.displayD1()\n",
    "ob1.displayD2()"
   ]
  },
  {
   "cell_type": "code",
   "execution_count": 75,
   "metadata": {},
   "outputs": [
    {
     "name": "stdout",
     "output_type": "stream",
     "text": [
      "Base: Constructor is executing...\n",
      "Base: displayB() is executing...\n",
      "Derived1: displayD1() is executing...\n",
      "Derived1: function() is executing...\n",
      "Base: function() is executing...\n",
      "\n",
      "Base: Constructor is executing...\n",
      "Base: displayB() is executing...\n",
      "Derived2: displayD2() is executing...\n",
      "Derived2: function() is executing...\n",
      "Base: function() is executing...\n"
     ]
    }
   ],
   "source": [
    "# Hierarchical Inheritance\n",
    "class Base:\n",
    "    def __init__(self):\n",
    "        print (\"Base: Constructor is executing...\")\n",
    "    def displayB(self):\n",
    "        print (\"Base: displayB() is executing...\")\n",
    "    def function(self):\n",
    "        print (\"Base: function() is executing...\")\n",
    "class Derived1(Base):\n",
    "    def displayD1(self):\n",
    "        print (\"Derived1: displayD1() is executing...\")\n",
    "    def function(self):\n",
    "        print (\"Derived1: function() is executing...\")\n",
    "class Derived2(Base):\n",
    "    def displayD2(self):\n",
    "        print (\"Derived2: displayD2() is executing...\")\n",
    "    def function(self):\n",
    "        print (\"Derived2: function() is executing...\")\n",
    "ob1 = Derived1()\n",
    "ob1.displayB()\n",
    "ob1.displayD1()\n",
    "ob1.function()\n",
    "super(Derived1, ob1).function()\n",
    "print (\"\")\n",
    "ob2 = Derived2()\n",
    "ob2.displayB()\n",
    "ob2.displayD2()\n",
    "ob2.function()\n",
    "super(Derived2, ob2).function()\n",
    "# print (ob1.__add__(ob2))"
   ]
  },
  {
   "cell_type": "code",
   "execution_count": 66,
   "metadata": {},
   "outputs": [
    {
     "name": "stdout",
     "output_type": "stream",
     "text": [
      "Base1: constructor is executing...\n",
      "Base1: displayB1() is executing...\n",
      "Base2: displayB2() is executing...\n",
      "Derived: displayD() is executing...\n",
      "Base1: myfunction() is executing...\n"
     ]
    }
   ],
   "source": [
    "# Multiple Inheritance\n",
    "class Base1:\n",
    "    def __init__(self):\n",
    "        print (\"Base1: constructor is executing...\")\n",
    "    def displayB1(self):\n",
    "        print (\"Base1: displayB1() is executing...\")\n",
    "    def myfunction(self):\n",
    "        print (\"Base1: myfunction() is executing...\")\n",
    "class Base2:\n",
    "    def __init__(self):\n",
    "        print (\"Base2: constructor is executing...\")\n",
    "    def displayB2(self):\n",
    "        print (\"Base2: displayB2() is executing...\")\n",
    "    def myfunction(self):\n",
    "        print (\"Base2: myfunction() is executing...\")\n",
    "class Derived(Base1, Base2):  # it depends on \"Method Resolution Order (MRO)\"\n",
    "    # def __init__(self):\n",
    "    #    print (\"Derived: constructor is executing...\")\n",
    "    def displayD(self):\n",
    "        print (\"Derived: displayD() is executing...\")\n",
    "ob1 = Derived()\n",
    "ob1.displayB1()\n",
    "ob1.displayB2()\n",
    "ob1.displayD()\n",
    "ob1.myfunction()"
   ]
  },
  {
   "cell_type": "markdown",
   "metadata": {},
   "source": [
    "### Operator Overloading"
   ]
  },
  {
   "cell_type": "code",
   "execution_count": 70,
   "metadata": {},
   "outputs": [
    {
     "name": "stdout",
     "output_type": "stream",
     "text": [
      "So 1000 + 200 = 1200\n",
      "So 1000 + 200 = 1200\n",
      "So 1000 - 200 = 800\n",
      "So 1000 - 200 = 800\n",
      "So 1000 * 200 = 200000\n",
      "So 1000 * 200 = 200000\n",
      "<class 'int'> <class 'int'>\n"
     ]
    }
   ],
   "source": [
    "i = 1000\n",
    "j = 200\n",
    "result = i + j\n",
    "print (f\"So {i} + {j} = {result}\")\n",
    "result = i.__add__(j)\n",
    "print (f\"So {i} + {j} = {result}\")\n",
    "\n",
    "result = i - j\n",
    "print (f\"So {i} - {j} = {result}\")\n",
    "result = i.__sub__(j)\n",
    "print (f\"So {i} - {j} = {result}\")\n",
    "\n",
    "result = i * j\n",
    "print (f\"So {i} * {j} = {result}\")\n",
    "result = i.__mul__(j)\n",
    "print (f\"So {i} * {j} = {result}\")\n",
    "print (type(i), type(j))"
   ]
  },
  {
   "cell_type": "code",
   "execution_count": null,
   "metadata": {},
   "outputs": [],
   "source": [
    "help(int)"
   ]
  },
  {
   "cell_type": "code",
   "execution_count": 72,
   "metadata": {},
   "outputs": [
    {
     "name": "stdout",
     "output_type": "stream",
     "text": [
      "So 1000 > 200 = True\n",
      "So 1000 > 200 = True\n",
      "So 1000 <= 200 = False\n",
      "So 1000 <= 200 = False\n",
      "So 1000 == 200 = False\n",
      "So 1000 == 200 = False\n",
      "<class 'int'> <class 'int'>\n"
     ]
    }
   ],
   "source": [
    "i = 1000\n",
    "j = 200\n",
    "result = i > j\n",
    "print (f\"So {i} > {j} = {result}\")\n",
    "result = i.__gt__(j)\n",
    "print (f\"So {i} > {j} = {result}\")\n",
    "\n",
    "result = i <= j\n",
    "print (f\"So {i} <= {j} = {result}\")\n",
    "result = i.__le__(j)\n",
    "print (f\"So {i} <= {j} = {result}\")\n",
    "\n",
    "result = i == j\n",
    "print (f\"So {i} == {j} = {result}\")\n",
    "result = i.__eq__(j)\n",
    "print (f\"So {i} == {j} = {result}\")\n",
    "print (type(i), type(j))"
   ]
  },
  {
   "cell_type": "code",
   "execution_count": 6,
   "metadata": {},
   "outputs": [
    {
     "name": "stdout",
     "output_type": "stream",
     "text": [
      "ob1 details: 12 4\n",
      "ob2 details: 16 7\n",
      "\n",
      "After performing the addition operation...\n",
      "result details: 28 11\n",
      "result details: 28 11\n",
      "\n",
      "After performing the greater than operation...\n",
      "result2: True\n",
      "result2: True\n"
     ]
    }
   ],
   "source": [
    "class MyClass:           # myclass, MYCLASS, MyClass, myClassHere   Integer.parseInt\n",
    "    def __init__(self, xx, yy):\n",
    "        self.x = xx\n",
    "        self.y = yy\n",
    "    def __add__(self, ob):\n",
    "        temp = MyClass(0, 0)\n",
    "        temp.x = self.x + ob.x\n",
    "        temp.y = self.y + ob.y\n",
    "        return temp\n",
    "    def __gt__(self, ob):\n",
    "        temp = MyClass(0, 0)\n",
    "        temp.x = self.x + ob.x\n",
    "        temp.y = self.y + ob.y\n",
    "        return temp.x > temp.y\n",
    "ob1 = MyClass(12, 4)\n",
    "ob2 = MyClass(16, 7)\n",
    "print (\"ob1 details:\", ob1.x, ob1.y)\n",
    "print (\"ob2 details:\", ob2.x, ob2.y)\n",
    "print (\"\\nAfter performing the addition operation...\")\n",
    "result1 = ob1 + ob2\n",
    "print (\"result details:\", result1.x, result1.y)\n",
    "result1 = ob1.__add__(ob2)\n",
    "print (\"result details:\", result1.x, result1.y)\n",
    "\n",
    "print (\"\\nAfter performing the greater than operation...\")\n",
    "result2 = ob1 > ob2\n",
    "print (\"result2:\", result2)\n",
    "result2 = ob1.__gt__(ob2)\n",
    "print (\"result2:\", result2)"
   ]
  },
  {
   "cell_type": "markdown",
   "metadata": {},
   "source": [
    "### Abstract Class and Interface"
   ]
  },
  {
   "cell_type": "code",
   "execution_count": 8,
   "metadata": {},
   "outputs": [
    {
     "name": "stdout",
     "output_type": "stream",
     "text": [
      "Abstract class constructor...\n",
      "concreteMethod() is executing...\n",
      "Abstract method redefined...\n"
     ]
    }
   ],
   "source": [
    "# abstract class\n",
    "from abc import ABC, abstractmethod     # ABC stands for Abstract Base Class\n",
    "class AbsBaseClass(ABC):\n",
    "    def __init__(self):\n",
    "        print (\"Abstract class constructor...\")\n",
    "    @abstractmethod\n",
    "    def abstractMethod(self):\n",
    "        pass     # pass is called as a statement placeholder\n",
    "    def concreteMethod(self):\n",
    "        print (\"concreteMethod() is executing...\")\n",
    "class Derived(AbsBaseClass):\n",
    "    def abstractMethod(self):\n",
    "        print (\"Abstract method redefined...\")\n",
    "        \n",
    "ob1 = Derived()\n",
    "ob1.concreteMethod()\n",
    "ob1.abstractMethod()"
   ]
  },
  {
   "cell_type": "code",
   "execution_count": 12,
   "metadata": {},
   "outputs": [
    {
     "name": "stdout",
     "output_type": "stream",
     "text": [
      "Abstract class constructor...\n",
      "concreteMethod() is executing...\n",
      "Abstract method redefined...\n",
      "Initial content...\n"
     ]
    }
   ],
   "source": [
    "# abstract class\n",
    "from abc import ABC, abstractmethod     # ABC stands for Abstract Base Class\n",
    "class AbsBaseClass(ABC):\n",
    "    def __init__(self):\n",
    "        print (\"Abstract class constructor...\")\n",
    "    @abstractmethod\n",
    "    def abstractMethod(self):\n",
    "        print (\"Initial content...\")\n",
    "    def concreteMethod(self):\n",
    "        print (\"concreteMethod() is executing...\")\n",
    "class Derived(AbsBaseClass):\n",
    "    def abstractMethod(self):\n",
    "        print (\"Abstract method redefined...\")\n",
    "        super().abstractMethod()\n",
    "        \n",
    "ob1 = Derived()\n",
    "ob1.concreteMethod()\n",
    "ob1.abstractMethod()"
   ]
  },
  {
   "cell_type": "code",
   "execution_count": 13,
   "metadata": {},
   "outputs": [
    {
     "name": "stdout",
     "output_type": "stream",
     "text": [
      "abstractMethod1() is redefined...\n",
      "abstractMethod2() is redefined...\n",
      "abstractMethod2() is redefined...\n"
     ]
    }
   ],
   "source": [
    "# dealing with interface\n",
    "from abc import ABC, abstractmethod\n",
    "class interface(ABC):\n",
    "    @abstractmethod\n",
    "    def abstractMethod1(self):\n",
    "        pass\n",
    "    @abstractmethod\n",
    "    def abstractMethod2(self):\n",
    "        pass\n",
    "    @abstractmethod\n",
    "    def abstractMethod3(self):\n",
    "        pass\n",
    "class Derived(interface):\n",
    "    def abstractMethod1(self):\n",
    "        print (\"abstractMethod1() is redefined...\")\n",
    "    def abstractMethod2(self):\n",
    "        print (\"abstractMethod2() is redefined...\")\n",
    "    def abstractMethod3(self):\n",
    "        print (\"abstractMethod2() is redefined...\")\n",
    "ob1 = Derived()\n",
    "ob1.abstractMethod1()\n",
    "ob1.abstractMethod2()\n",
    "ob1.abstractMethod3()"
   ]
  },
  {
   "cell_type": "code",
   "execution_count": 16,
   "metadata": {},
   "outputs": [
    {
     "name": "stdout",
     "output_type": "stream",
     "text": [
      "B\n",
      "C\n",
      "D\n"
     ]
    }
   ],
   "source": [
    "# OOP concepts in exception handling\n",
    "class B(Exception):\n",
    "    pass\n",
    "class C(B):\n",
    "    pass\n",
    "class D(C):\n",
    "    pass\n",
    "\n",
    "for cls in [B, C, D]:\n",
    "    try:\n",
    "        raise cls()\n",
    "    except D:\n",
    "        print (\"D\")\n",
    "    except C:\n",
    "        print (\"C\")\n",
    "    except B:\n",
    "        print (\"B\")"
   ]
  },
  {
   "cell_type": "code",
   "execution_count": 17,
   "metadata": {},
   "outputs": [
    {
     "name": "stdout",
     "output_type": "stream",
     "text": [
      "B\n",
      "B\n",
      "B\n"
     ]
    }
   ],
   "source": [
    "# OOP concepts in exception handling\n",
    "class B(Exception):\n",
    "    pass\n",
    "class C(B):\n",
    "    pass\n",
    "class D(C):\n",
    "    pass\n",
    "\n",
    "for cls in [B, C, D]:\n",
    "    try:\n",
    "        raise cls()\n",
    "    except B:\n",
    "        print (\"B\")\n",
    "    except C:\n",
    "        print (\"C\")\n",
    "    except D:\n",
    "        print (\"D\")"
   ]
  },
  {
   "cell_type": "code",
   "execution_count": 21,
   "metadata": {},
   "outputs": [
    {
     "name": "stdout",
     "output_type": "stream",
     "text": [
      "Could not convert the value to integer...\n"
     ]
    }
   ],
   "source": [
    "import sys\n",
    "try:\n",
    "    f = open('myfile.txt')\n",
    "    s = f.readline()\n",
    "    i = int(s.strip())\n",
    "    print (i)\n",
    "except ValueError:\n",
    "    print (\"Could not convert the value to integer...\")\n",
    "except:\n",
    "    print (\"Unexpected Error:\", sys.exc_info()[0])\n",
    "    print (\"Unexpected Error:\", sys.exc_info())"
   ]
  },
  {
   "cell_type": "code",
   "execution_count": null,
   "metadata": {},
   "outputs": [],
   "source": []
  },
  {
   "cell_type": "code",
   "execution_count": null,
   "metadata": {},
   "outputs": [],
   "source": []
  },
  {
   "cell_type": "code",
   "execution_count": null,
   "metadata": {},
   "outputs": [],
   "source": []
  },
  {
   "cell_type": "code",
   "execution_count": null,
   "metadata": {},
   "outputs": [],
   "source": []
  },
  {
   "cell_type": "code",
   "execution_count": null,
   "metadata": {},
   "outputs": [],
   "source": []
  },
  {
   "cell_type": "code",
   "execution_count": null,
   "metadata": {},
   "outputs": [],
   "source": []
  },
  {
   "cell_type": "code",
   "execution_count": null,
   "metadata": {},
   "outputs": [],
   "source": []
  },
  {
   "cell_type": "code",
   "execution_count": null,
   "metadata": {},
   "outputs": [],
   "source": []
  },
  {
   "cell_type": "code",
   "execution_count": null,
   "metadata": {},
   "outputs": [],
   "source": []
  },
  {
   "cell_type": "code",
   "execution_count": null,
   "metadata": {},
   "outputs": [],
   "source": []
  },
  {
   "cell_type": "code",
   "execution_count": null,
   "metadata": {},
   "outputs": [],
   "source": []
  },
  {
   "cell_type": "code",
   "execution_count": null,
   "metadata": {},
   "outputs": [],
   "source": []
  },
  {
   "cell_type": "code",
   "execution_count": null,
   "metadata": {},
   "outputs": [],
   "source": []
  },
  {
   "cell_type": "code",
   "execution_count": null,
   "metadata": {},
   "outputs": [],
   "source": []
  }
 ],
 "metadata": {
  "kernelspec": {
   "display_name": "Python 3",
   "language": "python",
   "name": "python3"
  },
  "language_info": {
   "codemirror_mode": {
    "name": "ipython",
    "version": 3
   },
   "file_extension": ".py",
   "mimetype": "text/x-python",
   "name": "python",
   "nbconvert_exporter": "python",
   "pygments_lexer": "ipython3",
   "version": "3.8.5"
  }
 },
 "nbformat": 4,
 "nbformat_minor": 2
}
