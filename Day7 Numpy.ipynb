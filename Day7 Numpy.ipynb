{
 "cells": [
  {
   "cell_type": "markdown",
   "metadata": {},
   "source": [
    "### NUMPY: Arrays and Matrices"
   ]
  },
  {
   "cell_type": "raw",
   "metadata": {},
   "source": [
    "NumPy is an extension to the Python programming language, adding support for large, multi-dimensional (numerical) arrays and matrices, along with a large library of high-level mathematical functions to operate on these arrays. NumPy is having the full form \"Numeric Python\"."
   ]
  },
  {
   "cell_type": "code",
   "execution_count": 2,
   "metadata": {},
   "outputs": [],
   "source": [
    "import numpy as np"
   ]
  },
  {
   "cell_type": "markdown",
   "metadata": {},
   "source": [
    "### Create arrays"
   ]
  },
  {
   "cell_type": "code",
   "execution_count": 3,
   "metadata": {},
   "outputs": [
    {
     "name": "stdout",
     "output_type": "stream",
     "text": [
      "[1, 2, 3, 4, 5] <class 'list'>\n",
      "[1 2 3 4 5] <class 'numpy.ndarray'>\n"
     ]
    }
   ],
   "source": [
    "# create ndarrays from lists\n",
    "# note: every element must be the same data type (will be converted is possible)\n",
    "data1 = [1, 2, 3, 4, 5]        # list\n",
    "arr1 = np.array(data1)         # 1-D array\n",
    "print (data1, type(data1))\n",
    "print (arr1, type(arr1))"
   ]
  },
  {
   "cell_type": "code",
   "execution_count": 4,
   "metadata": {},
   "outputs": [
    {
     "name": "stdout",
     "output_type": "stream",
     "text": [
      "[range(1, 5), range(5, 9)] <class 'list'>\n",
      "[[1 2 3 4]\n",
      " [5 6 7 8]] <class 'numpy.ndarray'>\n"
     ]
    }
   ],
   "source": [
    "data2 = [range(1, 5), range(5, 9)]    # list of lists\n",
    "arr2 = np.array(data2)                # 2-D array\n",
    "print (data2, type(data2))\n",
    "print (arr2, type(arr2))"
   ]
  },
  {
   "cell_type": "code",
   "execution_count": 5,
   "metadata": {},
   "outputs": [
    {
     "name": "stdout",
     "output_type": "stream",
     "text": [
      "[[1, 2, 3, 4], [5, 6, 7, 8]] <class 'list'>\n"
     ]
    }
   ],
   "source": [
    "list2 = arr2.tolist()                  # converting ndarray back to a list\n",
    "print (list2, type(list2))"
   ]
  },
  {
   "cell_type": "code",
   "execution_count": 6,
   "metadata": {},
   "outputs": [
    {
     "name": "stdout",
     "output_type": "stream",
     "text": [
      "[1, 2, 3, 4]\n"
     ]
    }
   ],
   "source": [
    "print (list(range(1, 5)))"
   ]
  },
  {
   "cell_type": "code",
   "execution_count": 7,
   "metadata": {},
   "outputs": [
    {
     "name": "stdout",
     "output_type": "stream",
     "text": [
      "[1 2 3 4 5] <class 'numpy.ndarray'> 2858335286736\n",
      "[[1 2 3 4]\n",
      " [5 6 7 8]] <class 'numpy.ndarray'> 2858340274304\n",
      "int32\n",
      "int32\n",
      "(5,) <class 'tuple'>\n",
      "(2, 4) <class 'tuple'>\n",
      "1\n",
      "2\n",
      "5\n",
      "8\n",
      "5\n",
      "2\n"
     ]
    }
   ],
   "source": [
    "# examining arrays\n",
    "print (arr1, type(arr1), id(arr1))\n",
    "print (arr2, type(arr2), id(arr2))\n",
    "print (arr1.dtype)        # data type of the array\n",
    "print (arr2.dtype)\n",
    "print (arr1.shape, type(arr1.shape))        # shape of the array (5,) => Singleton notation\n",
    "print (arr2.shape, type(arr2.shape))        # shape of the array (2, 4)\n",
    "print (arr1.ndim)        # number of dimensions\n",
    "print (arr2.ndim)\n",
    "print (arr1.size)        # total number of elements\n",
    "print (arr2.size)\n",
    "print (len(arr1))        # size of the first dimension (aka axis)\n",
    "print (len(arr2))"
   ]
  },
  {
   "cell_type": "code",
   "execution_count": 8,
   "metadata": {},
   "outputs": [
    {
     "name": "stdout",
     "output_type": "stream",
     "text": [
      "[range(1, 6), range(5, 10)] <class 'list'>\n",
      "[[1 2 3 4 5]\n",
      " [5 6 7 8 9]] <class 'numpy.ndarray'>\n"
     ]
    }
   ],
   "source": [
    "data3 = [range(1, 6), range(5, 10)]    # list of lists\n",
    "arr3 = np.array(data3)                 # 2-D array\n",
    "print (data3, type(data3))\n",
    "print (arr3, type(arr3))"
   ]
  },
  {
   "cell_type": "code",
   "execution_count": 9,
   "metadata": {},
   "outputs": [
    {
     "name": "stdout",
     "output_type": "stream",
     "text": [
      "[0. 0. 0. 0. 0. 0. 0. 0. 0. 0.]\n",
      "[[0. 0. 0. 0. 0. 0.]\n",
      " [0. 0. 0. 0. 0. 0.]\n",
      " [0. 0. 0. 0. 0. 0.]]\n",
      "[1. 1. 1. 1. 1. 1. 1. 1. 1. 1.]\n",
      "[[1. 1. 1. 1. 1. 1.]\n",
      " [1. 1. 1. 1. 1. 1.]\n",
      " [1. 1. 1. 1. 1. 1.]]\n",
      "[0.   0.25 0.5  0.75 1.  ]\n",
      "[   1.   10.  100. 1000.]\n"
     ]
    }
   ],
   "source": [
    "# create special arrays\n",
    "print (np.zeros(10))\n",
    "print (np.zeros((3, 6)))\n",
    "print (np.ones(10))\n",
    "print (np.ones((3, 6)))\n",
    "print (np.linspace(0, 1, 5))  # 0 to 1 (inclusive) with 5 points  #Equi Distance Values\n",
    "print (np.logspace(0, 3, 4))  # 10^0 to 10^3 (inclusive) with 4 points"
   ]
  },
  {
   "cell_type": "code",
   "execution_count": 10,
   "metadata": {},
   "outputs": [
    {
     "name": "stdout",
     "output_type": "stream",
     "text": [
      "[10, 20, 30, 40, 50] <class 'list'>\n",
      "[10 20 30 40 50]\n",
      "int32\n"
     ]
    }
   ],
   "source": [
    "list1 = [10, 20, 30, 40, 50]\n",
    "print (list1, type(list1))\n",
    "arr1 = np.array(list1)\n",
    "print (arr1)\n",
    "print (arr1.dtype)"
   ]
  },
  {
   "cell_type": "code",
   "execution_count": 11,
   "metadata": {},
   "outputs": [
    {
     "name": "stdout",
     "output_type": "stream",
     "text": [
      "[10, 20, '30', 40, 50] <class 'list'>\n",
      "['10' '20' '30' '40' '50']\n",
      "<U11\n"
     ]
    }
   ],
   "source": [
    "list1 = [10, 20, '30', 40, 50]\n",
    "print (list1, type(list1))\n",
    "arr1 = np.array(list1)\n",
    "print (arr1)\n",
    "print (arr1.dtype)"
   ]
  },
  {
   "cell_type": "code",
   "execution_count": 12,
   "metadata": {},
   "outputs": [
    {
     "name": "stdout",
     "output_type": "stream",
     "text": [
      "[0, 1, 2, 3, 4] <class 'int'> <class 'list'>\n",
      "[0 1 2 3 4] int32 <class 'numpy.ndarray'>\n",
      "[0. 1. 2. 3. 4.] float64 <class 'numpy.ndarray'>\n"
     ]
    }
   ],
   "source": [
    "# arange is like rage, except it returns an array (but not a list)\n",
    "int_list = list(range(5))\n",
    "print (int_list, type(int_list[0]), type(int_list))\n",
    "int_array = np.arange(5)\n",
    "print (int_array, int_array.dtype, type(int_array))\n",
    "float_array = int_array.astype(float)\n",
    "print (float_array, float_array.dtype, type(float_array))"
   ]
  },
  {
   "cell_type": "markdown",
   "metadata": {},
   "source": [
    "### Reshaping"
   ]
  },
  {
   "cell_type": "code",
   "execution_count": 4,
   "metadata": {},
   "outputs": [
    {
     "name": "stdout",
     "output_type": "stream",
     "text": [
      "[0. 1. 2. 3. 4. 5. 6. 7. 8. 9.] float64 <class 'numpy.ndarray'> (10,)\n",
      "[[0. 1. 2. 3. 4.]\n",
      " [5. 6. 7. 8. 9.]] float64 <class 'numpy.ndarray'> (2, 5)\n",
      "[[0. 5.]\n",
      " [1. 6.]\n",
      " [2. 7.]\n",
      " [3. 8.]\n",
      " [4. 9.]] float64 <class 'numpy.ndarray'> (5, 2)\n"
     ]
    }
   ],
   "source": [
    "matrix = np.arange(10, dtype=float)\n",
    "print (matrix, matrix.dtype, type(matrix), matrix.shape)\n",
    "matrix = matrix.reshape((2, 5))\n",
    "print (matrix, matrix.dtype, type(matrix), matrix.shape)\n",
    "# transpose of a matrix\n",
    "matrix = matrix.T\n",
    "print (matrix, matrix.dtype, type(matrix), matrix.shape)"
   ]
  },
  {
   "cell_type": "markdown",
   "metadata": {},
   "source": [
    "### Selection"
   ]
  },
  {
   "cell_type": "code",
   "execution_count": 55,
   "metadata": {},
   "outputs": [
    {
     "name": "stdout",
     "output_type": "stream",
     "text": [
      "[1 2 3 4 5] <class 'numpy.ndarray'> int32 (5,)\n",
      "1 1\n",
      "5 5\n",
      "[3 4 5] [1 2 3]\n",
      "[5 4 3 2 1]\n"
     ]
    }
   ],
   "source": [
    "data1 = [1, 2, 3, 4, 5]        # list\n",
    "arr1 = np.array(data1)         # 1-D array\n",
    "print (arr1, type(arr1), arr1.dtype, arr1.shape)\n",
    "print (arr1[0], arr1[-5])      # 0th element (indexing like a list)\n",
    "print (arr1[4], arr1[-1])\n",
    "print (arr1[2:], arr1[:3])\n",
    "print (arr1[::-1])"
   ]
  },
  {
   "cell_type": "code",
   "execution_count": 62,
   "metadata": {},
   "outputs": [
    {
     "name": "stdout",
     "output_type": "stream",
     "text": [
      "[[1 2 3 4]\n",
      " [5 6 7 8]] <class 'numpy.ndarray'> int32 (2, 4)\n",
      "7\n",
      "[1 2 3 4] [5 6 7 8]\n",
      "[3 7]\n",
      "[[2 3 4]\n",
      " [6 7 8]]\n"
     ]
    }
   ],
   "source": [
    "data2 = [range(1, 5), range(5, 9)]    # list of lists\n",
    "arr2 = np.array(data2)                # 2-D array\n",
    "print (arr2, type(arr2), arr2.dtype, arr2.shape)\n",
    "print (arr2[1][2])                    # indexing\n",
    "print (arr2[0, :], arr2[1, :])        # slicing\n",
    "print (arr2[:, 2])\n",
    "print (arr2[:, 1:4])                  # all rows and columns from 1 (inclusive) to 4 (exclusive)"
   ]
  },
  {
   "cell_type": "markdown",
   "metadata": {},
   "source": [
    "### Views and copies"
   ]
  },
  {
   "cell_type": "code",
   "execution_count": 70,
   "metadata": {},
   "outputs": [
    {
     "name": "stdout",
     "output_type": "stream",
     "text": [
      "[0 1 2 3 4 5 6 7 8 9] <class 'numpy.ndarray'> int32 (10,)\n",
      "[5 6 7]\n",
      "[ 0  1  2  3  4 12 12 12  8  9]\n",
      "[12 12 12] <class 'numpy.ndarray'> int32 (3,)\n",
      "[13 13 13]\n",
      "[ 0  1  2  3  4 13 13 13  8  9]\n",
      "[13 13 13] <class 'numpy.ndarray'> int32 (3,)\n",
      "[14 14 14]\n",
      "[ 0  1  2  3  4 13 13 13  8  9]\n"
     ]
    }
   ],
   "source": [
    "arr = np.arange(10)\n",
    "print (arr, type(arr), arr.dtype, arr.shape)\n",
    "print (arr[5:8])\n",
    "arr[5:8] = 12       # all the pre-existing values at those index places will be over-written\n",
    "print (arr)\n",
    "arr_view = arr[5:8]   # creates a view of arr, not a copy\n",
    "print (arr_view, type(arr_view), arr_view.dtype, arr_view.shape)\n",
    "arr_view[:] = 13\n",
    "print (arr_view)\n",
    "print (arr)\n",
    "arr_copy = arr[5:8].copy()   # creates a copy of arr\n",
    "print (arr_copy, type(arr_copy), arr_copy.dtype, arr_copy.shape)\n",
    "arr_copy[:] = 14\n",
    "print (arr_copy)\n",
    "print (arr)"
   ]
  },
  {
   "cell_type": "code",
   "execution_count": 77,
   "metadata": {},
   "outputs": [
    {
     "name": "stdout",
     "output_type": "stream",
     "text": [
      "[11, 22, 33, 44]\n",
      "[11, 22, 33, 44]\n",
      "611704500168 611704500168\n",
      "[100, 22, 33, 44] [100, 22, 33, 44]\n",
      "[100, 22, 33, 44]\n",
      "611704500168 611703970824\n",
      "[500, 22, 33, 44] [100, 22, 33, 44]\n"
     ]
    }
   ],
   "source": [
    "list1 = [11, 22, 33, 44]\n",
    "print (list1)\n",
    "list2 = list1\n",
    "print (list2)\n",
    "print (id(list1), id(list2))\n",
    "list1[0] = 100\n",
    "print (list1, list2)\n",
    "list3 = []\n",
    "list3[:] = list1\n",
    "print (list3)\n",
    "print (id(list1), id(list3))\n",
    "list1[0] = 500\n",
    "print (list1, list3)"
   ]
  },
  {
   "cell_type": "markdown",
   "metadata": {},
   "source": [
    "### Using boolean arrays"
   ]
  },
  {
   "cell_type": "code",
   "execution_count": 82,
   "metadata": {},
   "outputs": [
    {
     "name": "stdout",
     "output_type": "stream",
     "text": [
      "[1 2 3 4 5 6 7 8 9]\n",
      "[False False False False False  True  True  True  True]\n",
      "[6 7 8 9]\n",
      "[False  True False  True False  True False  True False]\n",
      "[2 4 6 8]\n"
     ]
    }
   ],
   "source": [
    "arr = np.array([1, 2, 3, 4, 5, 6, 7, 8, 9])\n",
    "print (arr)\n",
    "print (arr > 5)\n",
    "print (arr[arr > 5])\n",
    "print (arr % 2 == 0)\n",
    "print (arr[arr % 2 == 0])"
   ]
  },
  {
   "cell_type": "code",
   "execution_count": 89,
   "metadata": {},
   "outputs": [
    {
     "name": "stdout",
     "output_type": "stream",
     "text": [
      "['Bob' 'Joe' 'Will' 'Bob']\n",
      "[ True False False  True]\n",
      "['Bob' 'Bob']\n",
      "['Joe' 'Will']\n",
      "['Bob' 'Will' 'Bob']\n",
      "['Bob' 'Tom' 'Tom' 'Bob']\n",
      "['Bob' 'Tom']\n"
     ]
    }
   ],
   "source": [
    "names = np.array(['Bob', 'Joe', 'Will', 'Bob'])\n",
    "print (names)\n",
    "print (names == 'Bob')\n",
    "print (names[names == 'Bob'])\n",
    "print (names[names != 'Bob'])\n",
    "print (names[(names == 'Bob') | (names == 'Will')])  # don't use or but use |\n",
    "names[names != 'Bob'] = 'Tom'   # assign based on a logical selection\n",
    "print (names)\n",
    "print (np.unique(names))        # getting all unique names"
   ]
  },
  {
   "cell_type": "markdown",
   "metadata": {},
   "source": [
    "### Vectorized operations"
   ]
  },
  {
   "cell_type": "code",
   "execution_count": 98,
   "metadata": {},
   "outputs": [
    {
     "name": "stdout",
     "output_type": "stream",
     "text": [
      "[0 1 2 3 4]\n",
      "[ 0  5 10 15 20]\n",
      "[0.         1.         1.41421356 1.73205081 2.        ]\n",
      "[0. 1. 2. 2. 2.]\n",
      "[0. 1. 1. 1. 2.]\n",
      "[False False False False False]\n",
      "[0 2 4 6 8]\n"
     ]
    }
   ],
   "source": [
    "nums = np.arange(5)\n",
    "print (nums)\n",
    "print (nums * 5)\n",
    "nums = np.sqrt(nums)\n",
    "print (nums)\n",
    "print (np.ceil(nums))\n",
    "print (np.floor(nums))\n",
    "print (np.isnan(nums))\n",
    "nums = np.arange(5)\n",
    "print (nums + np.arange(5))"
   ]
  },
  {
   "cell_type": "code",
   "execution_count": 101,
   "metadata": {},
   "outputs": [
    {
     "name": "stdout",
     "output_type": "stream",
     "text": [
      "[0 1 2 3 4]\n",
      "[10  1 13  3  5]\n"
     ]
    }
   ],
   "source": [
    "nums = np.arange(5)\n",
    "print (nums)\n",
    "print (np.maximum(nums, np.array([10, -2, 13, -4, 5])))"
   ]
  },
  {
   "cell_type": "code",
   "execution_count": 109,
   "metadata": {},
   "outputs": [
    {
     "name": "stdout",
     "output_type": "stream",
     "text": [
      "[-0.41563512  0.48324439  0.38733903  1.30322412  1.7371045   0.78690694\n",
      "  1.22861502  0.93561371  3.03578433  1.24001407]\n",
      "[ 0.50141317  0.7110653   0.69320512  1.52759572  0.27565787  1.6130179\n",
      "  0.26594882  0.1769295  -0.20513815  0.51426863]\n",
      "4.048169356418958\n"
     ]
    }
   ],
   "source": [
    "# calculating Euclidean distance between 2 vectors\n",
    "vec1 = np.random.randn(10)\n",
    "print (vec1)\n",
    "vec2 = np.random.randn(10)\n",
    "print (vec2)\n",
    "dist = np.sqrt(np.sum((vec1 - vec2) ** 2))\n",
    "print (dist)"
   ]
  },
  {
   "cell_type": "code",
   "execution_count": 110,
   "metadata": {},
   "outputs": [
    {
     "name": "stdout",
     "output_type": "stream",
     "text": [
      "[0.72579487 0.26012751 0.00965647 0.23520843 0.44760095 0.83032984\n",
      " 0.80130634 0.0618527  0.5695175  0.64239164]\n"
     ]
    }
   ],
   "source": [
    "vec1 = np.random.rand(10)\n",
    "print (vec1)"
   ]
  },
  {
   "cell_type": "code",
   "execution_count": 117,
   "metadata": {},
   "outputs": [
    {
     "name": "stdout",
     "output_type": "stream",
     "text": [
      "[[-0.09504393  0.74078607]\n",
      " [-1.13961014  0.24753756]\n",
      " [-1.4473362  -0.64888177]\n",
      " [ 0.08831257  1.75668749]]\n",
      "-0.062193542121831036\n",
      "0.9680146468224654\n",
      "4\n",
      "[-2.59367769  2.09612936]\n",
      "[ 0.64574214 -0.89207258 -2.09621797  1.84500007]\n"
     ]
    }
   ],
   "source": [
    "# math and stats\n",
    "rnd = np.random.randn(4, 2)\n",
    "print (rnd)\n",
    "print (rnd.mean())\n",
    "print (rnd.std())\n",
    "print (rnd.argmin())        # index of the minimum element\n",
    "print (rnd.sum(axis = 0))   # sum of columns\n",
    "print (rnd.sum(axis = 1))   # sum of rows"
   ]
  },
  {
   "cell_type": "code",
   "execution_count": 144,
   "metadata": {},
   "outputs": [
    {
     "name": "stdout",
     "output_type": "stream",
     "text": [
      "[[-1.07474258 -0.08614349]\n",
      " [ 1.17583854 -1.63509173]\n",
      " [ 1.228194    1.07638625]\n",
      " [ 0.39477287 -0.38770082]]\n",
      "4\n",
      "True\n",
      "False\n"
     ]
    }
   ],
   "source": [
    "# methods for boolean arrays\n",
    "rnd = np.random.randn(4, 2)\n",
    "print (rnd)\n",
    "print ((rnd > 0).sum())      # counts the number of positive values\n",
    "print ((rnd > 0).any())      # checks if any value is True\n",
    "print ((rnd > 0).all())      # checks if all values are True"
   ]
  },
  {
   "cell_type": "code",
   "execution_count": 126,
   "metadata": {},
   "outputs": [
    {
     "name": "stdout",
     "output_type": "stream",
     "text": [
      "[ 0  1  2  3  4  5  6  7  8  9 10 11 12 13 14 15 16 17 18 19 20 21 22 23\n",
      " 24 25 26 27 28 29 30 31]\n",
      "[[ 0  1  2  3]\n",
      " [ 4  5  6  7]\n",
      " [ 8  9 10 11]\n",
      " [12 13 14 15]\n",
      " [16 17 18 19]\n",
      " [20 21 22 23]\n",
      " [24 25 26 27]\n",
      " [28 29 30 31]]\n",
      "[[ 0  4  8 12 16 20 24 28]\n",
      " [ 1  5  9 13 17 21 25 29]\n",
      " [ 2  6 10 14 18 22 26 30]\n",
      " [ 3  7 11 15 19 23 27 31]]\n",
      "[ 0  4  8 12 16 20 24 28  1  5  9 13 17 21 25 29  2  6 10 14 18 22 26 30\n",
      "  3  7 11 15 19 23 27 31]\n"
     ]
    }
   ],
   "source": [
    "# reshape, transpose, flatten\n",
    "nums = np.arange(32)\n",
    "print (nums)\n",
    "nums = nums.reshape(8, 4)    # creates 8 x 4 matrix\n",
    "print (nums)\n",
    "nums = nums.T\n",
    "print (nums)\n",
    "nums = nums.flatten()        # flatten\n",
    "print (nums)"
   ]
  },
  {
   "cell_type": "code",
   "execution_count": 158,
   "metadata": {},
   "outputs": [
    {
     "name": "stdout",
     "output_type": "stream",
     "text": [
      "[[0.30623218 0.26506357 0.19606006]\n",
      " [0.43052148 0.02311355 0.19578192]]\n",
      "[-1.20658558 -0.64172681  1.30794563  1.84546043  0.82911495 -0.02329881\n",
      " -0.20856395 -0.91661975 -1.07474258 -0.08614349]\n",
      "[0 0 1 1 1 0 0 0 1 0]\n"
     ]
    }
   ],
   "source": [
    "# random numbers\n",
    "np.random.seed(1001)            # set the seed value for the random number generation\n",
    "nums = np.random.rand(2, 3)     # 2 x 3 matrix\n",
    "print (nums)\n",
    "nums = np.random.randn(10)      # random normals (mean with 0 and std with 1)\n",
    "print (nums)\n",
    "nums = np.random.randint(0, 2, 10)    # 10 randomly picked 0 or 1\n",
    "print (nums)"
   ]
  },
  {
   "cell_type": "code",
   "execution_count": 145,
   "metadata": {},
   "outputs": [
    {
     "name": "stdout",
     "output_type": "stream",
     "text": [
      "[[0.24618777 0.60419569 0.81851206]\n",
      " [0.41774645 0.06146904 0.90725405]]\n"
     ]
    }
   ],
   "source": [
    "nums = np.random.rand(2, 3)     # 2 x 3 matrix\n",
    "print (nums)"
   ]
  },
  {
   "cell_type": "markdown",
   "metadata": {},
   "source": [
    "### Broadcasting"
   ]
  },
  {
   "cell_type": "raw",
   "metadata": {},
   "source": [
    "Implicit conversion to allow operations on arrays of different sizes.\n",
    "Here the smaller array is stretched or \"broadcasted\" across the larger array so that they become compatible in shapes."
   ]
  },
  {
   "cell_type": "markdown",
   "metadata": {},
   "source": [
    "#### Rules"
   ]
  },
  {
   "cell_type": "raw",
   "metadata": {},
   "source": [
    "staring with the trailing axis and working backwoard, Numpy compares arrays for dimensions -\n",
    "* If two dimensions are equal the continue.\n",
    "* If one of the operand has dimension 1 stretches it to match the largest one."
   ]
  },
  {
   "cell_type": "code",
   "execution_count": 166,
   "metadata": {},
   "outputs": [
    {
     "name": "stdout",
     "output_type": "stream",
     "text": [
      "[[ 0  0  0]\n",
      " [10 10 10]\n",
      " [20 20 20]\n",
      " [30 30 30]] <class 'numpy.ndarray'>\n",
      "[0 1 2] <class 'numpy.ndarray'>\n",
      "[[ 0  1  2]\n",
      " [10 11 12]\n",
      " [20 21 22]\n",
      " [30 31 32]]\n",
      "[[ 0]\n",
      " [10]\n",
      " [20]\n",
      " [30]] <class 'numpy.ndarray'>\n",
      "[[ 0  1  2]\n",
      " [10 11 12]\n",
      " [20 21 22]\n",
      " [30 31 32]]\n"
     ]
    }
   ],
   "source": [
    "a = np.array([[ 0,  0,  0],\n",
    "             [10, 10, 10],\n",
    "             [20, 20, 20],\n",
    "             [30, 30, 30]])\n",
    "print (a, type(a))\n",
    "b = np.array([0, 1, 2])\n",
    "print (b, type(b))\n",
    "result = a + b\n",
    "print (result)\n",
    "a = np.array([[0], [10], [20], [30]])\n",
    "print (a, type(a))\n",
    "result = a + b\n",
    "print (result)"
   ]
  },
  {
   "cell_type": "code",
   "execution_count": null,
   "metadata": {},
   "outputs": [],
   "source": []
  }
 ],
 "metadata": {
  "kernelspec": {
   "display_name": "Python 3",
   "language": "python",
   "name": "python3"
  },
  "language_info": {
   "codemirror_mode": {
    "name": "ipython",
    "version": 3
   },
   "file_extension": ".py",
   "mimetype": "text/x-python",
   "name": "python",
   "nbconvert_exporter": "python",
   "pygments_lexer": "ipython3",
   "version": "3.8.5"
  }
 },
 "nbformat": 4,
 "nbformat_minor": 2
}
